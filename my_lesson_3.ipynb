{
 "cells": [
  {
   "cell_type": "markdown",
   "metadata": {},
   "source": [
    "# Lesson3\n",
    "\n",
    "- [Wiki](http://wiki.fast.ai/index.php/Lesson_3)\n",
    "- [Deep Visualization Toolbox](https://github.com/yosinski/deep-visualization-toolbox)"
   ]
  },
  {
   "cell_type": "markdown",
   "metadata": {},
   "source": [
    "# Dropoutの除去によるUnderfit対策\n",
    "\n",
    "- training accuracyがvalidation accuracyよりも小さかったらunderfittingを疑う"
   ]
  },
  {
   "cell_type": "markdown",
   "metadata": {},
   "source": [
    "1. vgg finetuned モデルの重みをロードする\n",
    "2. conv layersとfc layersに分ける\n",
    "    - vggはconv layersにdropoutを持たないため\n",
    "3. fc layersからdropoutを除去する\n",
    "    - dropoutの引数を0にする\n",
    "    - 2倍の重みがアクティブになるので、元の重みを1/2にしてセットする\n",
    "4. conv layersだけを使って推論する\n",
    "5. その特徴量を使って、dropoutを除去したfc layersを学習する"
   ]
  },
  {
   "cell_type": "code",
   "execution_count": 7,
   "metadata": {},
   "outputs": [],
   "source": [
    "import time\n",
    "import os\n",
    "\n",
    "import numpy as np\n",
    "np.set_printoptions(precision=4, linewidth=100)\n",
    "from matplotlib import pyplot as plt\n",
    "from PIL import Image\n",
    "\n",
    "import torch\n",
    "from torch import nn\n",
    "from torch import optim\n",
    "from torch.optim import lr_scheduler\n",
    "import torchvision\n",
    "from torch.autograd import Variable\n",
    "import torch.nn.functional as F\n",
    "from torch.utils.data import Dataset, DataLoader\n",
    "import torchvision.models as models\n",
    "from torchvision import transforms, datasets\n",
    "torch.set_printoptions(precision=4, linewidth=100)"
   ]
  },
  {
   "cell_type": "markdown",
   "metadata": {},
   "source": [
    "## 1. finetunedモデルをロード"
   ]
  },
  {
   "cell_type": "code",
   "execution_count": 46,
   "metadata": {},
   "outputs": [
    {
     "data": {
      "text/plain": [
       "VGG (\n",
       "  (features): Sequential (\n",
       "    (0): Conv2d(3, 64, kernel_size=(3, 3), stride=(1, 1), padding=(1, 1))\n",
       "    (1): ReLU (inplace)\n",
       "    (2): Conv2d(64, 64, kernel_size=(3, 3), stride=(1, 1), padding=(1, 1))\n",
       "    (3): ReLU (inplace)\n",
       "    (4): MaxPool2d (size=(2, 2), stride=(2, 2), dilation=(1, 1))\n",
       "    (5): Conv2d(64, 128, kernel_size=(3, 3), stride=(1, 1), padding=(1, 1))\n",
       "    (6): ReLU (inplace)\n",
       "    (7): Conv2d(128, 128, kernel_size=(3, 3), stride=(1, 1), padding=(1, 1))\n",
       "    (8): ReLU (inplace)\n",
       "    (9): MaxPool2d (size=(2, 2), stride=(2, 2), dilation=(1, 1))\n",
       "    (10): Conv2d(128, 256, kernel_size=(3, 3), stride=(1, 1), padding=(1, 1))\n",
       "    (11): ReLU (inplace)\n",
       "    (12): Conv2d(256, 256, kernel_size=(3, 3), stride=(1, 1), padding=(1, 1))\n",
       "    (13): ReLU (inplace)\n",
       "    (14): Conv2d(256, 256, kernel_size=(3, 3), stride=(1, 1), padding=(1, 1))\n",
       "    (15): ReLU (inplace)\n",
       "    (16): MaxPool2d (size=(2, 2), stride=(2, 2), dilation=(1, 1))\n",
       "    (17): Conv2d(256, 512, kernel_size=(3, 3), stride=(1, 1), padding=(1, 1))\n",
       "    (18): ReLU (inplace)\n",
       "    (19): Conv2d(512, 512, kernel_size=(3, 3), stride=(1, 1), padding=(1, 1))\n",
       "    (20): ReLU (inplace)\n",
       "    (21): Conv2d(512, 512, kernel_size=(3, 3), stride=(1, 1), padding=(1, 1))\n",
       "    (22): ReLU (inplace)\n",
       "    (23): MaxPool2d (size=(2, 2), stride=(2, 2), dilation=(1, 1))\n",
       "    (24): Conv2d(512, 512, kernel_size=(3, 3), stride=(1, 1), padding=(1, 1))\n",
       "    (25): ReLU (inplace)\n",
       "    (26): Conv2d(512, 512, kernel_size=(3, 3), stride=(1, 1), padding=(1, 1))\n",
       "    (27): ReLU (inplace)\n",
       "    (28): Conv2d(512, 512, kernel_size=(3, 3), stride=(1, 1), padding=(1, 1))\n",
       "    (29): ReLU (inplace)\n",
       "    (30): MaxPool2d (size=(2, 2), stride=(2, 2), dilation=(1, 1))\n",
       "  )\n",
       "  (classifier): Sequential (\n",
       "    (0): Linear (25088 -> 4096)\n",
       "    (1): ReLU (inplace)\n",
       "    (2): Dropout (p = 0.5)\n",
       "    (3): Linear (4096 -> 4096)\n",
       "    (4): ReLU (inplace)\n",
       "    (5): Dropout (p = 0.5)\n",
       "    (6): Linear (4096 -> 1000)\n",
       "  )\n",
       ")"
      ]
     },
     "execution_count": 46,
     "metadata": {},
     "output_type": "execute_result"
    }
   ],
   "source": [
    "vgg16 = models.vgg16(pretrained=True)\n",
    "vgg16"
   ]
  },
  {
   "cell_type": "code",
   "execution_count": 47,
   "metadata": {},
   "outputs": [],
   "source": [
    "# 置き換える層以外は再学習しないようにする\n",
    "for param in vgg16.features.parameters():\n",
    "    param.requires_grad = False"
   ]
  },
  {
   "cell_type": "code",
   "execution_count": 48,
   "metadata": {},
   "outputs": [],
   "source": [
    "num_features = vgg16.classifier[6].in_features\n",
    "modules = list(vgg16.classifier.children())\n",
    "modules.pop()\n",
    "modules.append(torch.nn.Linear(num_features, 2))\n",
    "new_classifier = torch.nn.Sequential(*modules)\n",
    "vgg16.classifier = new_classifier"
   ]
  },
  {
   "cell_type": "code",
   "execution_count": 49,
   "metadata": {},
   "outputs": [],
   "source": [
    "vgg16.load_state_dict(torch.load(\"lesson1_finetuned.pt\"))\n",
    "model_finetuned = vgg16"
   ]
  },
  {
   "cell_type": "markdown",
   "metadata": {},
   "source": [
    "## 2, 3 Dropoutを除去"
   ]
  },
  {
   "cell_type": "code",
   "execution_count": 50,
   "metadata": {},
   "outputs": [],
   "source": [
    "modules_without_dropout = []\n",
    "for module in model_finetuned.classifier.children():\n",
    "    if type(module) != nn.Dropout:\n",
    "        modules_without_dropout.append(module)\n",
    "new_classifier = nn.Sequential(*modules_without_dropout)\n",
    "model_finetuned.classifier = new_classifier"
   ]
  },
  {
   "cell_type": "code",
   "execution_count": 51,
   "metadata": {},
   "outputs": [
    {
     "data": {
      "text/plain": [
       "VGG (\n",
       "  (features): Sequential (\n",
       "    (0): Conv2d(3, 64, kernel_size=(3, 3), stride=(1, 1), padding=(1, 1))\n",
       "    (1): ReLU (inplace)\n",
       "    (2): Conv2d(64, 64, kernel_size=(3, 3), stride=(1, 1), padding=(1, 1))\n",
       "    (3): ReLU (inplace)\n",
       "    (4): MaxPool2d (size=(2, 2), stride=(2, 2), dilation=(1, 1))\n",
       "    (5): Conv2d(64, 128, kernel_size=(3, 3), stride=(1, 1), padding=(1, 1))\n",
       "    (6): ReLU (inplace)\n",
       "    (7): Conv2d(128, 128, kernel_size=(3, 3), stride=(1, 1), padding=(1, 1))\n",
       "    (8): ReLU (inplace)\n",
       "    (9): MaxPool2d (size=(2, 2), stride=(2, 2), dilation=(1, 1))\n",
       "    (10): Conv2d(128, 256, kernel_size=(3, 3), stride=(1, 1), padding=(1, 1))\n",
       "    (11): ReLU (inplace)\n",
       "    (12): Conv2d(256, 256, kernel_size=(3, 3), stride=(1, 1), padding=(1, 1))\n",
       "    (13): ReLU (inplace)\n",
       "    (14): Conv2d(256, 256, kernel_size=(3, 3), stride=(1, 1), padding=(1, 1))\n",
       "    (15): ReLU (inplace)\n",
       "    (16): MaxPool2d (size=(2, 2), stride=(2, 2), dilation=(1, 1))\n",
       "    (17): Conv2d(256, 512, kernel_size=(3, 3), stride=(1, 1), padding=(1, 1))\n",
       "    (18): ReLU (inplace)\n",
       "    (19): Conv2d(512, 512, kernel_size=(3, 3), stride=(1, 1), padding=(1, 1))\n",
       "    (20): ReLU (inplace)\n",
       "    (21): Conv2d(512, 512, kernel_size=(3, 3), stride=(1, 1), padding=(1, 1))\n",
       "    (22): ReLU (inplace)\n",
       "    (23): MaxPool2d (size=(2, 2), stride=(2, 2), dilation=(1, 1))\n",
       "    (24): Conv2d(512, 512, kernel_size=(3, 3), stride=(1, 1), padding=(1, 1))\n",
       "    (25): ReLU (inplace)\n",
       "    (26): Conv2d(512, 512, kernel_size=(3, 3), stride=(1, 1), padding=(1, 1))\n",
       "    (27): ReLU (inplace)\n",
       "    (28): Conv2d(512, 512, kernel_size=(3, 3), stride=(1, 1), padding=(1, 1))\n",
       "    (29): ReLU (inplace)\n",
       "    (30): MaxPool2d (size=(2, 2), stride=(2, 2), dilation=(1, 1))\n",
       "  )\n",
       "  (classifier): Sequential (\n",
       "    (0): Linear (25088 -> 4096)\n",
       "    (1): ReLU (inplace)\n",
       "    (2): Linear (4096 -> 4096)\n",
       "    (3): ReLU (inplace)\n",
       "    (4): Linear (4096 -> 2)\n",
       "  )\n",
       ")"
      ]
     },
     "execution_count": 51,
     "metadata": {},
     "output_type": "execute_result"
    }
   ],
   "source": [
    "model_finetuned"
   ]
  },
  {
   "cell_type": "code",
   "execution_count": 52,
   "metadata": {},
   "outputs": [],
   "source": [
    "# Dropoutを除去したので、それに対応して重みを半分にする\n",
    "def half_weights(m):\n",
    "    if type(m) == nn.Linear:\n",
    "        print(m.weight)\n",
    "        m.weight.data.mul_(1/2)\n",
    "        print(m.weight)"
   ]
  },
  {
   "cell_type": "code",
   "execution_count": 53,
   "metadata": {},
   "outputs": [
    {
     "name": "stdout",
     "output_type": "stream",
     "text": [
      "Parameter containing:\n",
      "-1.1094e-03 -2.6891e-03  2.1942e-03  ...   6.6429e-03 -4.2384e-04 -2.0694e-03\n",
      " 5.1961e-03  2.0472e-03  4.6155e-03  ...  -5.3580e-03 -4.5462e-03 -1.8746e-03\n",
      "-5.2747e-04  5.1788e-03  1.8400e-03  ...   6.8096e-03  4.6883e-04  9.0971e-03\n",
      "                ...                   ⋱                   ...                \n",
      "-7.5426e-03 -9.6441e-03 -2.5061e-03  ...  -7.9279e-03 -1.0565e-02 -3.6023e-03\n",
      "-4.4378e-04  1.4222e-03 -1.8937e-03  ...   3.5541e-03  2.1086e-03  3.7892e-03\n",
      " 6.2846e-03  4.1432e-03 -3.7906e-04  ...  -2.9724e-03  1.0594e-03  4.7496e-03\n",
      "[torch.FloatTensor of size 4096x25088]\n",
      "\n",
      "Parameter containing:\n",
      "-5.5472e-04 -1.3445e-03  1.0971e-03  ...   3.3215e-03 -2.1192e-04 -1.0347e-03\n",
      " 2.5981e-03  1.0236e-03  2.3078e-03  ...  -2.6790e-03 -2.2731e-03 -9.3729e-04\n",
      "-2.6373e-04  2.5894e-03  9.2000e-04  ...   3.4048e-03  2.3441e-04  4.5485e-03\n",
      "                ...                   ⋱                   ...                \n",
      "-3.7713e-03 -4.8220e-03 -1.2530e-03  ...  -3.9639e-03 -5.2823e-03 -1.8012e-03\n",
      "-2.2189e-04  7.1110e-04 -9.4687e-04  ...   1.7771e-03  1.0543e-03  1.8946e-03\n",
      " 3.1423e-03  2.0716e-03 -1.8953e-04  ...  -1.4862e-03  5.2970e-04  2.3748e-03\n",
      "[torch.FloatTensor of size 4096x25088]\n",
      "\n",
      "Parameter containing:\n",
      "-1.1262e-02  1.0421e-02 -1.6899e-03  ...  -1.6088e-02  1.2137e-02  6.5078e-03\n",
      "-5.4509e-04 -7.8270e-03  7.1184e-03  ...  -4.0817e-03  9.8776e-03 -1.1085e-02\n",
      "-1.0933e-02 -5.1533e-03  1.6766e-02  ...  -3.6180e-03  3.5386e-03 -2.2417e-02\n",
      "                ...                   ⋱                   ...                \n",
      "-1.0725e-02 -7.2678e-03 -3.8252e-03  ...  -2.4693e-03  8.3481e-03 -5.4105e-03\n",
      " 5.4018e-03  8.1430e-03 -1.3569e-02  ...   4.0841e-03 -4.1793e-04 -2.2802e-03\n",
      " 2.8788e-02  6.5824e-03  4.8993e-03  ...   2.4367e-02  6.5563e-03 -7.2610e-03\n",
      "[torch.FloatTensor of size 4096x4096]\n",
      "\n",
      "Parameter containing:\n",
      "-5.6310e-03  5.2107e-03 -8.4493e-04  ...  -8.0439e-03  6.0684e-03  3.2539e-03\n",
      "-2.7255e-04 -3.9135e-03  3.5592e-03  ...  -2.0409e-03  4.9388e-03 -5.5423e-03\n",
      "-5.4664e-03 -2.5766e-03  8.3830e-03  ...  -1.8090e-03  1.7693e-03 -1.1209e-02\n",
      "                ...                   ⋱                   ...                \n",
      "-5.3626e-03 -3.6339e-03 -1.9126e-03  ...  -1.2346e-03  4.1741e-03 -2.7052e-03\n",
      " 2.7009e-03  4.0715e-03 -6.7847e-03  ...   2.0420e-03 -2.0896e-04 -1.1401e-03\n",
      " 1.4394e-02  3.2912e-03  2.4497e-03  ...   1.2184e-02  3.2781e-03 -3.6305e-03\n",
      "[torch.FloatTensor of size 4096x4096]\n",
      "\n",
      "Parameter containing:\n",
      " 8.3346e-03 -3.1412e-03 -9.5112e-03  ...  -4.4318e-02 -9.0280e-03 -9.9915e-04\n",
      " 1.1416e-02 -1.7503e-03  1.0130e-02  ...   4.5659e-02  1.5728e-02  4.3529e-04\n",
      "[torch.FloatTensor of size 2x4096]\n",
      "\n",
      "Parameter containing:\n",
      " 4.1673e-03 -1.5706e-03 -4.7556e-03  ...  -2.2159e-02 -4.5140e-03 -4.9957e-04\n",
      " 5.7081e-03 -8.7514e-04  5.0648e-03  ...   2.2830e-02  7.8639e-03  2.1764e-04\n",
      "[torch.FloatTensor of size 2x4096]\n",
      "\n"
     ]
    },
    {
     "data": {
      "text/plain": [
       "Sequential (\n",
       "  (0): Linear (25088 -> 4096)\n",
       "  (1): ReLU (inplace)\n",
       "  (2): Linear (4096 -> 4096)\n",
       "  (3): ReLU (inplace)\n",
       "  (4): Linear (4096 -> 2)\n",
       ")"
      ]
     },
     "execution_count": 53,
     "metadata": {},
     "output_type": "execute_result"
    }
   ],
   "source": [
    "model_finetuned.classifier.apply(half_weights)"
   ]
  },
  {
   "cell_type": "code",
   "execution_count": 54,
   "metadata": {},
   "outputs": [
    {
     "name": "stdout",
     "output_type": "stream",
     "text": [
      "{'train': 23000, 'valid': 2000} ['cats', 'dogs']\n"
     ]
    }
   ],
   "source": [
    "# Data augmentation and normalization for training\n",
    "# Just normalization for validation\n",
    "data_transforms = {\n",
    "    'train': transforms.Compose([\n",
    "        transforms.RandomResizedCrop(224),\n",
    "        transforms.RandomHorizontalFlip(),\n",
    "        transforms.ToTensor(),\n",
    "        transforms.Normalize([0.485, 0.456, 0.406], [0.229, 0.224, 0.225])\n",
    "    ]),\n",
    "    'valid': transforms.Compose([\n",
    "        transforms.Resize(256),\n",
    "        transforms.CenterCrop(224),\n",
    "        transforms.ToTensor(),\n",
    "        transforms.Normalize([0.485, 0.456, 0.406], [0.229, 0.224, 0.225])\n",
    "    ]),\n",
    "}\n",
    "\n",
    "path = \"data/dogscats/\"\n",
    "batch_size = 12 # バッチサイズが大きいとGPUのメモリに乗らないので注意\n",
    "image_datasets = {x: datasets.ImageFolder(os.path.join(path, x),\n",
    "                                          data_transforms[x])\n",
    "                  for x in ['train', 'valid']}\n",
    "dataloaders = {x: torch.utils.data.DataLoader(image_datasets[x], batch_size=batch_size,\n",
    "                                             shuffle=True, num_workers=4)\n",
    "              for x in ['train', 'valid']}\n",
    "dataset_sizes = {x: len(image_datasets[x]) for x in ['train', 'valid']}\n",
    "class_names = image_datasets['train'].classes\n",
    "print(dataset_sizes, class_names)\n",
    "use_gpu = torch.cuda.is_available()"
   ]
  },
  {
   "cell_type": "code",
   "execution_count": 56,
   "metadata": {},
   "outputs": [],
   "source": [
    "if use_gpu:\n",
    "    model_finetuned = model_finetuned.cuda()\n",
    "criterion = nn.CrossEntropyLoss()\n",
    "optimizer = optim.SGD(model_finetuned.classifier.parameters(), lr=0.001, momentum=0.9)\n",
    "exp_lr_scheduler = lr_scheduler.StepLR(optimizer, step_size=7, gamma=0.1)"
   ]
  },
  {
   "cell_type": "code",
   "execution_count": 57,
   "metadata": {},
   "outputs": [],
   "source": [
    "def train_model(model, criterion, optimizer, scheduler, num_epochs=25):\n",
    "    since = time.time()\n",
    "\n",
    "    best_model_wts = model.state_dict()\n",
    "    best_acc = 0.0\n",
    "\n",
    "    for epoch in range(num_epochs):\n",
    "        print('Epoch {}/{}'.format(epoch, num_epochs - 1))\n",
    "        print('-' * 10)\n",
    "\n",
    "        # Each epoch has a training and validation phase\n",
    "        for phase in ['train', 'valid']:\n",
    "            if phase == 'train':\n",
    "                scheduler.step()\n",
    "                model.train(True)  # Set model to training mode\n",
    "            else:\n",
    "                model.train(False)  # Set model to evaluate mode\n",
    "\n",
    "            running_loss = 0.0\n",
    "            running_corrects = 0\n",
    "\n",
    "            # Iterate over data.\n",
    "            for data in dataloaders[phase]:\n",
    "                # get the inputs\n",
    "                inputs, labels = data\n",
    "\n",
    "                # wrap them in Variable\n",
    "                if use_gpu:\n",
    "                    inputs = Variable(inputs.cuda())\n",
    "                    labels = Variable(labels.cuda())\n",
    "                else:\n",
    "                    inputs, labels = Variable(inputs), Variable(labels)\n",
    "\n",
    "                # zero the parameter gradients\n",
    "                optimizer.zero_grad()\n",
    "\n",
    "                # forward\n",
    "                outputs = model(inputs)\n",
    "                _, preds = torch.max(outputs.data, 1)\n",
    "                loss = criterion(outputs, labels)\n",
    "\n",
    "                # backward + optimize only if in training phase\n",
    "                if phase == 'train':\n",
    "                    loss.backward()\n",
    "                    optimizer.step()\n",
    "\n",
    "                # statistics\n",
    "                running_loss += loss.data[0] # loss.dataはsize 1 のTensorなので[0]を取る\n",
    "                running_corrects += torch.sum(preds == labels.data)\n",
    "\n",
    "            epoch_loss = running_loss / dataset_sizes[phase]\n",
    "            epoch_acc = running_corrects / dataset_sizes[phase]\n",
    "\n",
    "            print('{} Loss: {:.4f} Acc: {:.4f}'.format(\n",
    "                phase, epoch_loss, epoch_acc))\n",
    "\n",
    "            # deep copy the model\n",
    "            # 最も良いモデルの重みを変数に保持\n",
    "            if phase == 'valid' and epoch_acc > best_acc:\n",
    "                best_acc = epoch_acc\n",
    "                best_model_wts = model.state_dict()\n",
    "\n",
    "        print()\n",
    "\n",
    "    time_elapsed = time.time() - since\n",
    "    print('Training complete in {:.0f}m {:.0f}s'.format(\n",
    "        time_elapsed // 60, time_elapsed % 60))\n",
    "    print('Best val Acc: {:4f}'.format(best_acc))\n",
    "\n",
    "    # load best model weights\n",
    "    model.load_state_dict(best_model_wts)\n",
    "    return model"
   ]
  },
  {
   "cell_type": "code",
   "execution_count": 59,
   "metadata": {},
   "outputs": [
    {
     "name": "stdout",
     "output_type": "stream",
     "text": [
      "Epoch 0/2\n",
      "----------\n",
      "train Loss: 0.0082 Acc: 0.9595\n",
      "valid Loss: 0.0025 Acc: 0.9890\n",
      "\n",
      "Epoch 1/2\n",
      "----------\n",
      "train Loss: 0.0070 Acc: 0.9648\n",
      "valid Loss: 0.0022 Acc: 0.9895\n",
      "\n",
      "Epoch 2/2\n",
      "----------\n",
      "train Loss: 0.0067 Acc: 0.9662\n",
      "valid Loss: 0.0022 Acc: 0.9910\n",
      "\n",
      "Training complete in 31m 41s\n",
      "Best val Acc: 0.991000\n"
     ]
    }
   ],
   "source": [
    "model_without_dropout = train_model(model_finetuned, criterion, optimizer, exp_lr_scheduler, num_epochs=3)"
   ]
  },
  {
   "cell_type": "markdown",
   "metadata": {},
   "source": [
    "# Data augmentation\n",
    "\n",
    "直感的には、データとして含まれていてもおかしくないような加工をすれば良い\n",
    "\n",
    "- torchvision.transforms.RandomHorizontalFlip\n",
    "- torchvision.transforms.RandomRotation\n",
    "  - Pytorch 0.4から登場"
   ]
  },
  {
   "cell_type": "code",
   "execution_count": 60,
   "metadata": {},
   "outputs": [],
   "source": [
    "%matplotlib inline"
   ]
  },
  {
   "cell_type": "code",
   "execution_count": 63,
   "metadata": {},
   "outputs": [],
   "source": [
    "path = \"data/dogscats/sample/\""
   ]
  },
  {
   "cell_type": "code",
   "execution_count": 66,
   "metadata": {},
   "outputs": [],
   "source": [
    "# http://pytorch.org/docs/master/torchvision/transforms.html\n",
    "data_transform = transforms.Compose([\n",
    "        transforms.RandomResizedCrop(224), # 画像のサイズを合わせ、その値はpretrainedモデルに合わせる\n",
    "        transforms.RandomHorizontalFlip()\n",
    "    ])\n",
    "dataset = datasets.ImageFolder(root=path+\"train\", transform=data_transform)"
   ]
  },
  {
   "cell_type": "code",
   "execution_count": 67,
   "metadata": {},
   "outputs": [
    {
     "data": {
      "image/png": "[encoded data removed]",
      "text/plain": [
       "<PIL.Image.Image image mode=RGB size=224x224 at 0x7F2DD768BC18>"
      ]
     },
     "execution_count": 67,
     "metadata": {},
     "output_type": "execute_result"
    }
   ],
   "source": [
    "dataset[0][0]"
   ]
  },
  {
   "cell_type": "markdown",
   "metadata": {},
   "source": [
    "## Batch normalization\n",
    "\n",
    "all modern networks should use batchnorm, or something equivalent\n",
    "\n",
    "1. Adding batchnorm to a model can result in 10x or more improvements in training speed\n",
    "2. Because normalization greatly reduces the ability of a small number of outlying inputs to over-influence the training, it also tends to reduce overfitting.\n",
    "\n",
    "- VGGはBatch normalizationを使っていないので、足した場合はすべての重みを最初からImageNetで学習する必要がある\n",
    "  - その後、dog/cat分類用にtransfer learningを行う\n",
    "- torch.nn.BatchNorm1dを使用する  "
   ]
  },
  {
   "cell_type": "code",
   "execution_count": null,
   "metadata": {
    "collapsed": true
   },
   "outputs": [],
   "source": []
  }
 ],
 "metadata": {
  "kernelspec": {
   "display_name": "Python 3",
   "language": "python",
   "name": "python3"
  },
  "language_info": {
   "codemirror_mode": {
    "name": "ipython",
    "version": 3
   },
   "file_extension": ".py",
   "mimetype": "text/x-python",
   "name": "python",
   "nbconvert_exporter": "python",
   "pygments_lexer": "ipython3",
   "version": "3.5.4"
  }
 },
 "nbformat": 4,
 "nbformat_minor": 2
}
