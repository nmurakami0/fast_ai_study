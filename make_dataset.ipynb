{
 "cells": [
  {
   "cell_type": "markdown",
   "metadata": {},
   "source": [
    "# データセット分割\n",
    "\n",
    "ラベルごとにデータが格納されている場合に、train、valid、testにそれらをランダムに分配する"
   ]
  },
  {
   "cell_type": "code",
   "execution_count": 20,
   "metadata": {},
   "outputs": [],
   "source": [
    "from glob import glob"
   ]
  },
  {
   "cell_type": "code",
   "execution_count": 21,
   "metadata": {},
   "outputs": [
    {
     "name": "stdout",
     "output_type": "stream",
     "text": [
      "/home/ec2-user\n"
     ]
    }
   ],
   "source": [
    "%cd"
   ]
  },
  {
   "cell_type": "code",
   "execution_count": 22,
   "metadata": {},
   "outputs": [
    {
     "name": "stdout",
     "output_type": "stream",
     "text": [
      "/home/ec2-user/fast_ai_study/not_divided_data\n"
     ]
    }
   ],
   "source": [
    "%cd fast_ai_study/not_divided_data/"
   ]
  },
  {
   "cell_type": "code",
   "execution_count": 23,
   "metadata": {},
   "outputs": [],
   "source": [
    "import os"
   ]
  },
  {
   "cell_type": "code",
   "execution_count": 24,
   "metadata": {},
   "outputs": [],
   "source": [
    "os.mkdir('../train')\n",
    "os.mkdir('../valid')\n",
    "os.mkdir('../test')"
   ]
  },
  {
   "cell_type": "code",
   "execution_count": 25,
   "metadata": {},
   "outputs": [
    {
     "name": "stdout",
     "output_type": "stream",
     "text": [
      "['dogs', 'cats']\n"
     ]
    }
   ],
   "source": [
    "g = glob('*')\n",
    "print(g)\n",
    "for d in g: os.mkdir('../train/' + d)\n",
    "for d in g: os.mkdir('../valid/' + d)\n",
    "for d in g: os.mkdir('../test/' + d)    "
   ]
  },
  {
   "cell_type": "code",
   "execution_count": 26,
   "metadata": {},
   "outputs": [],
   "source": [
    "g = glob('*/*.jpg')"
   ]
  },
  {
   "cell_type": "code",
   "execution_count": 27,
   "metadata": {},
   "outputs": [
    {
     "data": {
      "text/plain": [
       "23000"
      ]
     },
     "execution_count": 27,
     "metadata": {},
     "output_type": "execute_result"
    }
   ],
   "source": [
    "all_num = len(g)\n",
    "all_num"
   ]
  },
  {
   "cell_type": "code",
   "execution_count": 28,
   "metadata": {},
   "outputs": [],
   "source": [
    "train_ratio, valid_ratio, test_ratio = 0.6, 0.2, 0.2"
   ]
  },
  {
   "cell_type": "code",
   "execution_count": 29,
   "metadata": {},
   "outputs": [
    {
     "name": "stdout",
     "output_type": "stream",
     "text": [
      "13800 4600 4600\n"
     ]
    }
   ],
   "source": [
    "train_num = int(len(g) * train_ratio)\n",
    "valid_num = int(len(g) * valid_ratio)\n",
    "test_num = all_num - train_num - valid_num\n",
    "print(train_num, valid_num, test_num)"
   ]
  },
  {
   "cell_type": "code",
   "execution_count": 30,
   "metadata": {},
   "outputs": [],
   "source": [
    "import numpy as np"
   ]
  },
  {
   "cell_type": "code",
   "execution_count": 31,
   "metadata": {},
   "outputs": [
    {
     "data": {
      "text/plain": [
       "array(['cats/cat.5123.jpg', 'dogs/dog.5172.jpg', 'dogs/dog.11208.jpg',\n",
       "       ..., 'dogs/dog.7438.jpg', 'cats/cat.10446.jpg', 'cats/cat.96.jpg'],\n",
       "      dtype='<U18')"
      ]
     },
     "execution_count": 31,
     "metadata": {},
     "output_type": "execute_result"
    }
   ],
   "source": [
    "shuf = np.random.permutation(g)\n",
    "shuf"
   ]
  },
  {
   "cell_type": "code",
   "execution_count": 33,
   "metadata": {},
   "outputs": [],
   "source": [
    "for i in range(train_num): os.rename(shuf[i], '../train/' + shuf[i])\n",
    "for i in range(train_num + 1, train_num + valid_num + 1): os.rename(shuf[i], '../valid/' + shuf[i])\n",
    "for i in range(train_num + valid_num + 1, len(g)): os.rename(shuf[i], '../test/' + shuf[i])"
   ]
  },
  {
   "cell_type": "code",
   "execution_count": null,
   "metadata": {},
   "outputs": [],
   "source": []
  }
 ],
 "metadata": {
  "kernelspec": {
   "display_name": "Python [conda env:pytorch_p36]",
   "language": "python",
   "name": "conda-env-pytorch_p36-py"
  },
  "language_info": {
   "codemirror_mode": {
    "name": "ipython",
    "version": 3
   },
   "file_extension": ".py",
   "mimetype": "text/x-python",
   "name": "python",
   "nbconvert_exporter": "python",
   "pygments_lexer": "ipython3",
   "version": "3.6.5"
  }
 },
 "nbformat": 4,
 "nbformat_minor": 2
}
