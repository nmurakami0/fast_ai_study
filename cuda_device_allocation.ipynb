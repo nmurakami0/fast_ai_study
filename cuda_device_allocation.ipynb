{
 "cells": [
  {
   "cell_type": "code",
   "execution_count": null,
   "metadata": {},
   "outputs": [],
   "source": [
    "import torch\n",
    "\n",
    "# check is cuda enabled\n",
    "torch.cuda.is_available()\n",
    "\n",
    "# set required device\n",
    "torch.cuda.set_device(0)\n",
    "\n",
    "# work with some required cuda device\n",
    "with torch.cuda.device(1):\n",
    "    # allocates a tensor on GPU 1\n",
    "    a = torch.cuda.FloatTensor(1)\n",
    "    assert a.get_device() == 1\n",
    "\n",
    "    # but you still can manually assign tensor to required device\n",
    "    d = torch.randn(2).cuda(2)\n",
    "assert d.get_device() == 2"
   ]
  }
 ],
 "metadata": {
  "kernelspec": {
   "display_name": "Python 3",
   "language": "python",
   "name": "python3"
  },
  "language_info": {
   "codemirror_mode": {
    "name": "ipython",
    "version": 3
   },
   "file_extension": ".py",
   "mimetype": "text/x-python",
   "name": "python",
   "nbconvert_exporter": "python",
   "pygments_lexer": "ipython3",
   "version": "3.5.4"
  }
 },
 "nbformat": 4,
 "nbformat_minor": 2
}
